{
 "cells": [
  {
   "cell_type": "markdown",
   "metadata": {},
   "source": [
    "<b>ExERCISE 13</b>\n",
    "\n"
   ]
  },
  {
   "cell_type": "markdown",
   "metadata": {},
   "source": []
  },
  {
   "cell_type": "markdown",
   "metadata": {},
   "source": [
    "In this exercise, we will cover one more input method that you can use to pass variables to a script (the script is another name for your .py files). Do you know how to write python ex13.py to execute the ex13.py file? Well, the ex13.py part of the command is called \"argument.\" What we will do now is write a script that also accepts arguments. On line 1 we have what’s called an “import.”  The argv is the “argument variable,” a very standard name in programming that you will ﬁnd used in many other languages. This variable holds the arguments you pass to your Python script when you run it. In the exercises you will get to play with this more and see what happens."
   ]
  },
  {
   "cell_type": "code",
   "execution_count": null,
   "metadata": {},
   "outputs": [],
   "source": [
    "from sys import argv\n",
    "script,first,second,third=argv\n",
    "\n",
    "print(\"the script is called \",script)\n",
    "print(\"What´s your favorite movie? : \",first)\n",
    "print(\"Your favorite day? : \",second)\n",
    "print(\"Your name? \", third)\n"
   ]
  },
  {
   "cell_type": "code",
   "execution_count": 2,
   "metadata": {},
   "outputs": [
    {
     "name": "stderr",
     "output_type": "stream",
     "text": [
      "python: can't open file 'ex13.py': [Errno 2] No such file or directory\n"
     ]
    }
   ],
   "source": [
    "!python ex13.py AVENGERS Friday Alan"
   ]
  },
  {
   "cell_type": "markdown",
   "metadata": {},
   "source": [
    "<b>EXERCISE 14</b>"
   ]
  },
  {
   "cell_type": "markdown",
   "metadata": {},
   "source": [
    "In this exercise we use two commands called argv and input, where we will seek to ask the user something specific. Before starting this we have to remember to give the script a name for the argv argument\n"
   ]
  },
  {
   "cell_type": "code",
   "execution_count": null,
   "metadata": {},
   "outputs": [],
   "source": [
    "from sys import argv\n",
    "script, user_name = argv\n",
    "prompt = '> '\n",
    "\n",
    "print(f\"Hi {user_name}, I'm the {script} script.\") \n",
    "print(\"I'd like to ask you a few questions.\")\n",
    "print(f\"Do you like me {user_name}?\")\n",
    "likes = input(prompt)\n",
    "\n",
    "print(f\"Where do you live {user_name}?\") \n",
    "lives = input(prompt)\n",
    "\n",
    "print(\"What kind of computer do you have?\") \n",
    "computer = input(prompt)\n",
    "\n",
    "print(f\"\"\"\n",
    " Alright, so you said {likes} about liking me.\n",
    "You live in {lives}. Not sure where that is.\n",
    "And you have a {computer} computer. Nice.\n",
    "\"\"\")\n"
   ]
  },
  {
   "cell_type": "raw",
   "metadata": {},
   "source": [
    "Windows PowerShell\n",
    "Copyright (C) Microsoft Corporation. Todos los derechos reservados.\n",
    "\n",
    "PS C:\\Users\\Alan> python ex14.py Alan\n",
    "Hi Alan, I'm the ex14.py script.\n",
    "I'd like to ask you a few questions.\n",
    "Do you like me Alan?\n",
    "> No\n",
    "Where do you live Alan?\n",
    "> Tampico\n",
    "What kind of computer do you have?\n",
    "> Altair 8800\n",
    "\n",
    " Alright, so you said No about liking me.\n",
    "You live in Tampico. Not sure where that is.\n",
    "And you have a Altair 8800 computer. Nice.\n",
    "\n",
    "PS C:\\Users\\Alan>\n"
   ]
  },
  {
   "cell_type": "markdown",
   "metadata": {},
   "source": [
    "<b>EXERCISE 15</b>"
   ]
  },
  {
   "cell_type": "markdown",
   "metadata": {},
   "source": [
    "This program is complicated but at the same time understood, it will be much easier to prepare the following exercises, in this exercise we seek to read files, since in this we will write two files, one that will be Python and one that will be a txt. What we will achieve is to open the txt file. in our Python program in an effective way using what was learned with argv and script."
   ]
  },
  {
   "cell_type": "code",
   "execution_count": null,
   "metadata": {},
   "outputs": [],
   "source": [
    "from sys import argv\n",
    "\n",
    "script, filename = argv\n",
    "txt = open(filename)\n",
    "    \n",
    "print(f\"Here's your file {filename}:\")\n",
    "print(txt.read())\n",
    "\n",
    "print(\"Type the filename again:\")\n",
    "file_again = input(\"> \")\n",
    "    \n",
    "txt_again = open(file_again)\n",
    "\n",
    "print(txt_again.read())\n"
   ]
  },
  {
   "cell_type": "raw",
   "metadata": {},
   "source": [
    "PS C:\\Users\\Alan> python ex15.py ex15_sample.txt\n",
    "    \n",
    "Here's your file ex15_sample.txt:\n",
    "hi my friends our names are Alan and Omar and\n",
    "we are creating an interesting program\n",
    "\n",
    "Type the filename again:    \n",
    ".> ex15_sample.txt\n",
    "hi my friends our names are Alan and Omar and\n",
    "we are creating an interesting program\n",
    "PS C:\\Users\\Alan>"
   ]
  },
  {
   "cell_type": "markdown",
   "metadata": {},
   "source": [
    "<b>EXERCISE 16</b>"
   ]
  },
  {
   "cell_type": "markdown",
   "metadata": {},
   "source": [
    "In this exercise for now, these are the important commands you need to know. Some of them take parameters, but we do not really care about that. You only need to remember that write takes a parameter of a string you want to write to the ﬁle."
   ]
  },
  {
   "cell_type": "code",
   "execution_count": null,
   "metadata": {},
   "outputs": [],
   "source": [
    "from sys import argv\n",
    "script, filename = argv\n",
    "print(f\"We're going to erase {filename}.\")\n",
    "print(\"If you don't want that, hit CTRL-C (^C).\")\n",
    "print(\"If you do want that, hit RETURN.\")\n",
    "input(\"?\")\n",
    "print(\"Opening the file...\")\n",
    "target = open(filename, 'w')\n",
    "print(\"Truncating the file. Goodbye!\")\n",
    "target.truncate()\n",
    "print(\"Now I'm going to ask you for three lines.\")\n",
    "line1 = input(\"line 1: \")\n",
    "line2 = input(\"line 2: \")\n",
    "line3 = input(\"line 3: \")\n",
    "print(\"I'm going to write these to the file.\")\n",
    "target.write(line1)\n",
    "target.write(\"\\n\")\n",
    "target.write(line2)\n",
    "target.write(\"\\n\")\n",
    "target.write(line3)\n",
    "target.write(\"\\n\")\n",
    "print(\"And finally, we close it.\")\n",
    "target.close()"
   ]
  },
  {
   "cell_type": "raw",
   "metadata": {},
   "source": [
    "PS C:\\Users\\Alan> python ex16.py ex16_test.txt\n",
    "We're going to erase ex16_test.txt.\n",
    "If you don't want that, hit CTRL-C (^C).\n",
    "If you do want that, hit RETURN.\n",
    "?\n",
    "Opening the file...\n",
    "Truncating the file. Goodbye!\n",
    "Now I'm going to ask you for three lines.\n",
    "line 1: a\n",
    "line 2: b\n",
    "line 3: c\n",
    "I'm going to write these to the file.\n",
    "And finally, we close it.\n",
    "PS C:\\Users\\Alan>\n"
   ]
  },
  {
   "cell_type": "markdown",
   "metadata": {},
   "source": [
    "<b>EXERCISE 17</b>\n"
   ]
  },
  {
   "cell_type": "markdown",
   "metadata": {},
   "source": [
    "This exercise should immediately notice that we import another handy command named exists. This returns True if a ﬁle exists, based on its name in a string as an argument. It returns False if not. We’ll be using this function in the second half of this book to do lots of things, but right now you should see how you can import it.\n",
    "Using import is a way to get tons of free code other better (well, usually) programmers have written so you do not have to write it.\n"
   ]
  },
  {
   "cell_type": "code",
   "execution_count": null,
   "metadata": {},
   "outputs": [],
   "source": [
    "from sys import argv\n",
    "from os.path import exists\n",
    "\n",
    "script, from_file, to_file = argv\n",
    "\n",
    "print(f\"Copying from {from_file} to {to_file}\")\n",
    "\n",
    "#we could do these two on one line, how?\n",
    "in_file = open(from_file)\n",
    "indata = in_file.read()\n",
    "\n",
    "print(f\"The input file is {len(indata)} bytes long\")\n",
    "print(f\"Does the output file exist? {exists(to_file)}\")\n",
    "print(\"Ready, hit RETURN to continue, CTRL-C to abort.\")\n",
    "input()\n",
    "out_file = open(to_file, 'w')\n",
    "out_file.write(indata)\n",
    "\n",
    "print(\"Alright, all done.\")\n",
    "\n",
    "out_file.close()\n",
    "in_file.close()\n"
   ]
  },
  {
   "cell_type": "raw",
   "metadata": {},
   "source": [
    "PS C:\\Users\\Alan> echo \"we are going to copy this text to another file\"> test.txt\n",
    "PS C:\\Users\\Alan> cat test.txt\n",
    "we are going to copy this text to another file\n",
    "PS C:\\Users\\Alan> python ex17.py test.txt new_test.txt\n",
    "Copying from test.txt to new_test.txt\n",
    "The input file is 98 bytes long\n",
    "Does the output file exist? False\n",
    "Ready, hit RETURN to continue, CTRL-C to abort.\n",
    "\n",
    "Alright, all done.\n",
    "PS C:\\Users\\Alan>"
   ]
  }
 ],
 "metadata": {
  "kernelspec": {
   "display_name": "Python 3",
   "language": "python",
   "name": "python3"
  },
  "language_info": {
   "codemirror_mode": {
    "name": "ipython",
    "version": 3
   },
   "file_extension": ".py",
   "mimetype": "text/x-python",
   "name": "python",
   "nbconvert_exporter": "python",
   "pygments_lexer": "ipython3",
   "version": "3.7.4"
  }
 },
 "nbformat": 4,
 "nbformat_minor": 4
}
