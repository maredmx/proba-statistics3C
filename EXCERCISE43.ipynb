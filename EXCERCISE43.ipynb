{
 "cells": [
  {
   "cell_type": "code",
   "execution_count": 1,
   "metadata": {},
   "outputs": [],
   "source": [
    "class Scene(object):\n",
    "\n",
    "    def enter(self):\n",
    "        pass\n",
    "\n",
    "\n",
    "class Engine(object):\n",
    "\n",
    "    def __init__(self, scene_map):\n",
    "        pass\n",
    "\n",
    "    def play(self):\n",
    "        pass\n",
    "\n",
    "class Death(Scene):\n",
    "\n",
    "    def enter(self):\n",
    "        pass\n",
    "\n",
    "class CentralCorridor(Scene):\n",
    "\n",
    "    def enter(self):\n",
    "        pass\n",
    "\n",
    "class LaserWeaponArmory(Scene):\n",
    "\n",
    "    def enter(self):\n",
    "        pass\n",
    "\n",
    "class TheBridge(Scene):\n",
    "\n",
    "    def enter(self):\n",
    "        pass\n",
    "\n",
    "class EscapePod(Scene):\n",
    "\n",
    "    def enter(self):\n",
    "        pass\n",
    "\n",
    "\n",
    "class Map(object):\n",
    "\n",
    "    def __init__(self, start_scene):\n",
    "        pass\n",
    "\n",
    "    def next_scene(self, scene_name):\n",
    "        pass\n",
    "\n",
    "    def opening_scene(self):\n",
    "        pass\n",
    "\n",
    "\n",
    "a_map = Map('central_corridor')\n",
    "a_game = Engine(a_map)\n",
    "a_game.play()"
   ]
  },
  {
   "cell_type": "code",
   "execution_count": null,
   "metadata": {},
   "outputs": [],
   "source": []
  },
  {
   "cell_type": "code",
   "execution_count": null,
   "metadata": {},
   "outputs": [],
   "source": []
  }
 ],
 "metadata": {
  "kernelspec": {
   "display_name": "Python 3",
   "language": "python",
   "name": "python3"
  },
  "language_info": {
   "codemirror_mode": {
    "name": "ipython",
    "version": 3
   },
   "file_extension": ".py",
   "mimetype": "text/x-python",
   "name": "python",
   "nbconvert_exporter": "python",
   "pygments_lexer": "ipython3",
   "version": "3.7.4"
  }
 },
 "nbformat": 4,
 "nbformat_minor": 2
}
