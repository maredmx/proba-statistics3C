{
 "cells": [
  {
   "cell_type": "code",
   "execution_count": 1,
   "metadata": {},
   "outputs": [
    {
     "name": "stdout",
     "output_type": "stream",
     "text": [
      "We can just give the function numbers directly:\n",
      "You have 40 dogs!\n",
      "You have 70 pieces of cake!\n",
      "Man that's enough for a party!\n",
      "Get a bucket.\n",
      "\n",
      "OR,we can use variables from our script:\n",
      "You have 5 dogs!\n",
      "You have 50 pieces of cake!\n",
      "Man that's enough for a party!\n",
      "Get a bucket.\n",
      "\n",
      "We can even do math inside too:\n",
      "You have 30 dogs!\n",
      "You have 11 pieces of cake!\n",
      "Man that's enough for a party!\n",
      "Get a bucket.\n",
      "\n",
      "And we can combine the two, variables and math:\n",
      "You have 105 dogs!\n",
      "You have 1050 pieces of cake!\n",
      "Man that's enough for a party!\n",
      "Get a bucket.\n",
      "\n"
     ]
    }
   ],
   "source": [
    "def cheese_and_crackers(cheese_count, boxes_of_crackers):\n",
    "    print(f\"You have {cheese_count} dogs!\")\n",
    "    print(f\"You have {boxes_of_crackers} pieces of cake!\")\n",
    "    print(\"Man that's enough for a party!\")\n",
    "    print(\"Get a bucket.\\n\")\n",
    "\n",
    "\n",
    "print(\"We can just give the function numbers directly:\")\n",
    "cheese_and_crackers(40, 70)\n",
    "\n",
    "\n",
    "print(\"OR,we can use variables from our script:\") \n",
    "amount_of_cheese = 5\n",
    "amount_of_crackers = 50\n",
    "\n",
    "cheese_and_crackers(amount_of_cheese, amount_of_crackers)\n",
    "\n",
    "\n",
    "print(\"We can even do math inside too:\")\n",
    "cheese_and_crackers(10 + 20, 5 + 6)\n",
    "\n",
    "\n",
    "print(\"And we can combine the two, variables and math:\")\n",
    "cheese_and_crackers(amount_of_cheese + 100, amount_of_crackers + 1000)\n"
   ]
  }
 ],
 "metadata": {
  "kernelspec": {
   "display_name": "Python 3",
   "language": "python",
   "name": "python3"
  },
  "language_info": {
   "codemirror_mode": {
    "name": "ipython",
    "version": 3
   },
   "file_extension": ".py",
   "mimetype": "text/x-python",
   "name": "python",
   "nbconvert_exporter": "python",
   "pygments_lexer": "ipython3",
   "version": "3.7.4"
  }
 },
 "nbformat": 4,
 "nbformat_minor": 2
}
